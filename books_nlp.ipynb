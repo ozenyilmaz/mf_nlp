{
  "nbformat": 4,
  "nbformat_minor": 0,
  "metadata": {
    "colab": {
      "provenance": []
    },
    "kernelspec": {
      "name": "python3",
      "display_name": "Python 3"
    },
    "language_info": {
      "name": "python"
    }
  },
  "cells": [
    {
      "cell_type": "code",
      "execution_count": null,
      "metadata": {
        "id": "zFaittlwDnyv"
      },
      "outputs": [],
      "source": [
        "import tensorflow as tf\n",
        "import pandas as pd\n",
        "import matplotlib.pyplot as plt\n",
        "import numpy as np\n",
        "mnist = tf.keras.datasets.mnist"
      ]
    },
    {
      "cell_type": "code",
      "source": [
        "# Importing necessary libraries\n",
        "import pandas as pd\n",
        "import numpy as np\n",
        "import pandas as pd\n",
        "import numpy as np\n",
        "from nltk.corpus import stopwords\n",
        "from sklearn.metrics.pairwise import linear_kernel\n",
        "from sklearn.feature_extraction.text import CountVectorizer\n",
        "from sklearn.feature_extraction.text import TfidfVectorizer\n",
        "from nltk.tokenize import RegexpTokenizer\n",
        "import re\n",
        "import string\n",
        "import random\n",
        "from PIL import Image\n",
        "import requests\n",
        "from io import BytesIO\n",
        "import matplotlib.pyplot as plt\n",
        "%matplotlib inline\n",
        "# Reading the file\n",
        "df = pd.read_csv(\"dataset.csv\")\n",
        "#Reading the first five records\n",
        "df.head()\n",
        "df.describe"
      ],
      "metadata": {
        "id": "QVHTTCEXZdec",
        "outputId": "a11474ee-d81e-41d9-b6d0-1254358a0b34",
        "colab": {
          "base_uri": "https://localhost:8080/"
        }
      },
      "execution_count": null,
      "outputs": [
        {
          "output_type": "execute_result",
          "data": {
            "text/plain": [
              "<bound method NDFrame.describe of                      authors  bestsellers-rank  \\\n",
              "0                        [1]           49848.0   \n",
              "1                     [2, 3]          115215.0   \n",
              "2                        [4]           11732.0   \n",
              "3               [5, 6, 7, 8]          114379.0   \n",
              "4                        [9]           98413.0   \n",
              "...                      ...               ...   \n",
              "20220                     []               NaN   \n",
              "20221         [21642, 21643]               NaN   \n",
              "20222  [21644, 21645, 21646]         2330433.0   \n",
              "20223                [21647]         1795678.0   \n",
              "20224                [21651]               NaN   \n",
              "\n",
              "                                              categories  \\\n",
              "0          [214, 220, 237, 2646, 2647, 2659, 2660, 2679]   \n",
              "1                                            [235, 3386]   \n",
              "2                                 [358, 2630, 360, 2632]   \n",
              "3                                      [377, 2978, 2980]   \n",
              "4                                           [2813, 2980]   \n",
              "...                                                  ...   \n",
              "20220                                             [1458]   \n",
              "20221                            [638, 1050, 1460, 1876]   \n",
              "20222  [720, 1307, 1458, 1593, 1599, 1610, 1629, 1647...   \n",
              "20223                                   [214, 233, 1458]   \n",
              "20224                                             [1459]   \n",
              "\n",
              "                                             description  dimension-x  \\\n",
              "0      SOLDIER FIVE is an elite soldier's explosive m...        129.0   \n",
              "1      John Moran and Carl Williams were the two bigg...        127.0   \n",
              "2      Sir Phillip knew that Eloise Bridgerton was a ...        150.0   \n",
              "3      The Third Book of General Ignorance  gathers t...        153.0   \n",
              "4      The Try Guys deliver their first book-an inspi...        191.0   \n",
              "...                                                  ...          ...   \n",
              "20220                                                NaN          NaN   \n",
              "20221                                                NaN          NaN   \n",
              "20222  Chimpanzees, including common chimpanzees and ...        178.0   \n",
              "20223                                                NaN        130.0   \n",
              "20224                                                NaN          NaN   \n",
              "\n",
              "       dimension-y  dimension-z      edition    edition-statement for-ages  \\\n",
              "0            198.0        20.00          NaN                  NaN      NaN   \n",
              "1            203.2        25.40          NaN                  NaN      NaN   \n",
              "2            224.0        28.00  New edition                  NaN      NaN   \n",
              "3            234.0        24.00          NaN  Export - Airside ed      NaN   \n",
              "4            240.0        29.00          NaN                  NaN      NaN   \n",
              "...            ...          ...          ...                  ...      ...   \n",
              "20220          NaN          NaN          NaN                  NaN      NaN   \n",
              "20221          NaN          NaN          NaN                  NaN      NaN   \n",
              "20222        254.0        15.24          NaN                  NaN      NaN   \n",
              "20223        200.0        27.00          NaN                  NaN      NaN   \n",
              "20224          NaN          NaN          NaN                  NaN      NaN   \n",
              "\n",
              "       ...      isbn10        isbn13 lang publication-date publication-place  \\\n",
              "0      ...  184018907X  9.780000e+12   en  10/14/2004 0:00               NaN   \n",
              "1      ...  184454737X  9.780000e+12   en   3/13/2009 0:00               NaN   \n",
              "2      ...  8416327866  9.790000e+12   es   4/30/2020 0:00               NaN   \n",
              "3      ...   571308996  9.780000e+12   en  10.01.2015 0:00               NaN   \n",
              "4      ...     8352518  9.780000e+12   en   6/18/2019 0:00               NaN   \n",
              "...    ...         ...           ...  ...              ...               ...   \n",
              "20220  ...  192205402X  9.780000e+12  NaN              NaN               NaN   \n",
              "20221  ...   215047257  9.780000e+12   en   7/24/2012 0:00               NaN   \n",
              "20222  ...  1466580186  9.780000e+12   en   2/19/2013 0:00               NaN   \n",
              "20223  ...  1843868466  9.780000e+12  NaN  10/29/2012 0:00               NaN   \n",
              "20224  ...         NaN           NaN  NaN              NaN               NaN   \n",
              "\n",
              "      rating-avg rating-count  \\\n",
              "0           4.03        292.0   \n",
              "1           3.60        335.0   \n",
              "2           3.88      37211.0   \n",
              "3           4.17        384.0   \n",
              "4           3.90       5095.0   \n",
              "...          ...          ...   \n",
              "20220        NaN          NaN   \n",
              "20221        NaN          NaN   \n",
              "20222        NaN          NaN   \n",
              "20223       4.31         13.0   \n",
              "20224        NaN          NaN   \n",
              "\n",
              "                                                   title  \\\n",
              "0      Soldier Five : The Real Truth About The Bravo ...   \n",
              "1                          Underbelly : The Gangland War   \n",
              "2                                A Sir Phillip, Con Amor   \n",
              "3                QI: The Third Book of General Ignorance   \n",
              "4                         The Hidden Power of F*cking Up   \n",
              "...                                                  ...   \n",
              "20220  CVE 400 Wound Management and Reconstruction (C...   \n",
              "20221  Desinewed meat : fifth report of session 2012-...   \n",
              "20222  Photographic and Descriptive Musculoskeletal A...   \n",
              "20223            The Lion and the Lamb: Memoirs of a Vet   \n",
              "20224                                                NaN   \n",
              "\n",
              "                                                     url  weight  \n",
              "0                /Soldier-Five-Mike-Coburn/9781840189070  224.00  \n",
              "1                  /Underbelly-Andrew-Rule/9781844547371  285.76  \n",
              "2        /Sir-Phillip-Con-Amor-Julia-Quinn/9788416327867  386.00  \n",
              "3      /QI-Third-Book-General-Ignorance-John-Lloyd/97...  436.00  \n",
              "4        /Hidden-Power-F-cking-Up-Try-Guys/9780008352516  980.00  \n",
              "...                                                  ...     ...  \n",
              "20220  /CVE-400-Wound-Management-Reconstruction-Centr...     NaN  \n",
              "20221  /Desinewed-meat-Food-Rural-Affairs-Committee-G...     NaN  \n",
              "20222  /Photographic-Descriptive-Musculoskeletal-Atla...  499.00  \n",
              "20223  /Lion-Lamb-Memoirs-Vet-Mike-Hardwich/978184386...  372.00  \n",
              "20224                                                NaN     NaN  \n",
              "\n",
              "[20225 rows x 28 columns]>"
            ]
          },
          "metadata": {},
          "execution_count": 6
        }
      ]
    },
    {
      "cell_type": "markdown",
      "source": [
        "# New Section"
      ],
      "metadata": {
        "id": "J5fPLEr0D6Q2"
      }
    },
    {
      "cell_type": "code",
      "source": [
        "# Importing necessary libraries\n",
        "import pandas as pd\n",
        "import numpy as np\n",
        "import nltk\n",
        "nltk.download('stopwords')\n",
        "from nltk.corpus import stopwords\n",
        "from sklearn.metrics.pairwise import linear_kernel\n",
        "from sklearn.feature_extraction.text import CountVectorizer\n",
        "from sklearn.feature_extraction.text import TfidfVectorizer\n",
        "from nltk.tokenize import RegexpTokenizer\n",
        "import re\n",
        "import string\n",
        "import random\n",
        "from PIL import Image\n",
        "import requests\n",
        "from io import BytesIO\n",
        "import matplotlib.pyplot as plt\n",
        "%matplotlib inline\n",
        "from sklearn.metrics.pairwise import cosine_similarity\n",
        "from gensim.models import Word2Vec\n",
        "from gensim.models.phrases import Phrases, Phraser\n",
        "from matplotlib import pyplot\n",
        "from gensim.models import KeyedVectors"
      ],
      "metadata": {
        "colab": {
          "base_uri": "https://localhost:8080/"
        },
        "id": "D30ArstYl5Ov",
        "outputId": "c9f9f4f5-af00-4b92-9de9-5729c4123749"
      },
      "execution_count": null,
      "outputs": [
        {
          "output_type": "stream",
          "name": "stderr",
          "text": [
            "[nltk_data] Downloading package stopwords to /root/nltk_data...\n",
            "[nltk_data]   Unzipping corpora/stopwords.zip.\n"
          ]
        }
      ]
    },
    {
      "cell_type": "markdown",
      "source": [],
      "metadata": {
        "id": "KHzzmB6MCK2Z"
      }
    },
    {
      "cell_type": "code",
      "source": [
        "df = pd.read_csv(\"dataset.csv\")"
      ],
      "metadata": {
        "id": "BuF1qltBl7X-"
      },
      "execution_count": null,
      "outputs": []
    },
    {
      "cell_type": "code",
      "source": [
        "import pandas as pd\n",
        "df['description'] = df['description'].fillna('')\n"
      ],
      "metadata": {
        "id": "tJYVJThJmTdy"
      },
      "execution_count": null,
      "outputs": []
    },
    {
      "cell_type": "code",
      "source": [
        "#Utitlity functions for removing ASCII characters, converting lower case, removing stop words, html and punctuation from description\n",
        "\n",
        "def _removeNonAscii(s):\n",
        "    return \"\".join(i for i in s if  ord(i)<128)\n",
        "\n",
        "def make_lower_case(text):\n",
        "    return text.lower()\n",
        "\n",
        "def remove_stop_words(text):\n",
        "    text = text.split()\n",
        "    stops = set(stopwords.words(\"english\"))\n",
        "    text = [w for w in text if not w in stops]\n",
        "    text = \" \".join(text)\n",
        "    return text\n",
        "\n",
        "def remove_html(text):\n",
        "    html_pattern = re.compile('<.*?>')\n",
        "    return html_pattern.sub(r'', text)\n",
        "\n",
        "def remove_punctuation(text):\n",
        "    tokenizer = RegexpTokenizer(r'\\w+')\n",
        "    text = tokenizer.tokenize(text)\n",
        "    text = \" \".join(text)\n",
        "    return text\n",
        "\n",
        "df['cleaned'] = df['description'].apply(_removeNonAscii)\n",
        "df['cleaned'] = df.cleaned.apply(func = make_lower_case)\n",
        "df['cleaned'] = df.cleaned.apply(func = remove_stop_words)\n",
        "df['cleaned'] = df.cleaned.apply(func=remove_punctuation)\n",
        "df['cleaned'] = df.cleaned.apply(func=remove_html)"
      ],
      "metadata": {
        "id": "XpBy0Aq-xMTu"
      },
      "execution_count": null,
      "outputs": []
    },
    {
      "cell_type": "code",
      "source": [
        "# Building TF-IDF model and calculating TF-IDF scores\n",
        "tfidf = TfidfVectorizer(analyzer='word', ngram_range=(1, 3), min_df=5, stop_words='english')\n",
        "tfidf_matrix = tfidf.fit_transform(df['cleaned'])\n",
        "# Get feature names\n",
        "feature_names = tfidf.get_feature_names_out()\n",
        "print(feature_names)\n"
      ],
      "metadata": {
        "colab": {
          "base_uri": "https://localhost:8080/"
        },
        "id": "Zm_xeQwaxQJc",
        "outputId": "07d1de02-fcf9-4f4a-d4a8-aa1628944118"
      },
      "execution_count": null,
      "outputs": [
        {
          "output_type": "stream",
          "name": "stdout",
          "text": [
            "['00' '000' '000 000' ... 'zwei' 'zwierzt' 'zwischen']\n"
          ]
        }
      ]
    },
    {
      "cell_type": "code",
      "source": [
        "#splitting the description into to words\n",
        "corpus = []\n",
        "for words in df['cleaned']:\n",
        "    corpus.append(words.split())\n"
      ],
      "metadata": {
        "id": "URQmL1OM1O2P"
      },
      "execution_count": null,
      "outputs": []
    },
    {
      "cell_type": "code",
      "source": [
        "corpus = []\n",
        "# Split descriptions into words and store in the 'corpus' list, represents the words in a cleaned desc.\n",
        "for description in df['cleaned']:\n",
        "   words = description.split()\n",
        "   corpus.append(words)\n"
      ],
      "metadata": {
        "id": "z-qHt8yW36d4"
      },
      "execution_count": null,
      "outputs": []
    },
    {
      "cell_type": "code",
      "source": [
        "from gensim.models import Word2Vec\n",
        "# Training Word2Vec model\n",
        "model = Word2Vec(sentences=corpus, vector_size=100, window=5, min_count=1, workers=4)"
      ],
      "metadata": {
        "id": "OZsov31D37-3"
      },
      "execution_count": null,
      "outputs": []
    },
    {
      "cell_type": "code",
      "source": [
        "similar_words = model.wv.most_similar('world', topn=5)\n",
        "print(similar_words)"
      ],
      "metadata": {
        "colab": {
          "base_uri": "https://localhost:8080/"
        },
        "id": "vE_cUqRl4AbM",
        "outputId": "e229a040-9e52-4535-ca07-b0e5ccb40a9e"
      },
      "execution_count": null,
      "outputs": [
        {
          "output_type": "stream",
          "name": "stdout",
          "text": [
            "[('globe', 0.8336687088012695), ('fabricated', 0.811151921749115), ('revolve', 0.7755870223045349), ('surges', 0.7693963050842285), ('parlance', 0.7554454803466797)]\n"
          ]
        }
      ]
    },
    {
      "cell_type": "code",
      "source": [
        "similar_words = model.wv.most_similar('boy', topn=5)\n",
        "print(similar_words)"
      ],
      "metadata": {
        "colab": {
          "base_uri": "https://localhost:8080/"
        },
        "id": "iEKZZ-wk4IE2",
        "outputId": "85c8b16c-ea5b-400b-87ac-9bcb74006626"
      },
      "execution_count": null,
      "outputs": [
        {
          "output_type": "stream",
          "name": "stdout",
          "text": [
            "[('girl', 0.9914138913154602), ('sister', 0.9750037789344788), ('brother', 0.9659906029701233), ('mother', 0.9632996320724487), ('daughter', 0.956916868686676)]\n"
          ]
        }
      ]
    },
    {
      "cell_type": "code",
      "source": [
        "from sklearn.decomposition import PCA\n",
        "import matplotlib.pyplot as plt\n",
        "words = ['world', 'civil', 'boy']\n",
        "word_vectors = [model.wv[word] for word in words]\n",
        "pca = PCA(n_components=2)\n",
        "result = pca.fit_transform(word_vectors)\n",
        "plt.scatter(result[:, 0], result[:, 1])\n",
        "for i, word in enumerate(words):\n",
        "   plt.annotate(word, xy=(result[i, 0], result[i, 1]))\n",
        "plt.show()"
      ],
      "metadata": {
        "colab": {
          "base_uri": "https://localhost:8080/",
          "height": 430
        },
        "id": "m3Nrc_G54M1c",
        "outputId": "7fdfdf39-238d-4412-fcd4-4e95a540ab62"
      },
      "execution_count": null,
      "outputs": [
        {
          "output_type": "display_data",
          "data": {
            "text/plain": [
              "<Figure size 640x480 with 1 Axes>"
            ],
            "image/png": "[encoded data removed]"
          },
          "metadata": {}
        }
      ]
    },
    {
      "cell_type": "code",
      "source": [
        "from gensim.models import Word2Vec\n",
        "# example of a word\n",
        "user_liked_product = 'art'\n",
        "# Finding similar products\n",
        "similar_products = model.wv.most_similar(user_liked_product, topn=10)\n",
        "print(f\"Kullanıcı için '{user_liked_product}' ürününe benzer ürünler:\")\n",
        "for product, similarity in similar_products:\n",
        "   print(f\"{product}: Benzerlik Skoru = {similarity}\")"
      ],
      "metadata": {
        "colab": {
          "base_uri": "https://localhost:8080/"
        },
        "id": "O23UtrdF4Q7Y",
        "outputId": "6a878d01-c0f8-43b1-b9de-741680286ead"
      },
      "execution_count": null,
      "outputs": [
        {
          "output_type": "stream",
          "name": "stdout",
          "text": [
            "Kullanıcı için 'art' ürününe benzer ürünler:\n",
            "popular: Benzerlik Skoru = 0.8760147094726562\n",
            "combining: Benzerlik Skoru = 0.8610761761665344\n",
            "addition: Benzerlik Skoru = 0.8399815559387207\n",
            "fine: Benzerlik Skoru = 0.8356310725212097\n",
            "literature: Benzerlik Skoru = 0.8334253430366516\n",
            "editions: Benzerlik Skoru = 0.8256452679634094\n",
            "unique: Benzerlik Skoru = 0.8250318169593811\n",
            "drawing: Benzerlik Skoru = 0.8237888216972351\n",
            "images: Benzerlik Skoru = 0.8176860809326172\n",
            "library: Benzerlik Skoru = 0.8172959089279175\n"
          ]
        }
      ]
    },
    {
      "cell_type": "code",
      "source": [
        "from gensim.models import Word2Vec\n",
        "corpus = [description.split() for description in df['description']]\n",
        "# Training Word2Vec model\n",
        "model = Word2Vec(sentences=corpus, vector_size=100, window=5, min_count=1, workers=4)"
      ],
      "metadata": {
        "id": "X7AKDmCe4VFh"
      },
      "execution_count": null,
      "outputs": []
    },
    {
      "cell_type": "code",
      "source": [
        "# Building TF-IDF Word2Vec\n",
        "\n",
        "# Storing the TFIDF Word2Vec embeddings,for each book description\n",
        "\n",
        "tfidf_vectors = [];\n",
        "line = 0;\n",
        "for desc in corpus:\n",
        "    sent_vec = np.zeros(300)\n",
        "    # num of words with a valid vector in the book description\n",
        "    weight_sum =0;\n",
        "    # for each word in the book description\n",
        "    for word in desc:\n",
        "        if word in similar_products and word in tfidf_feature:\n",
        "            vec = similar_products[word]\n",
        "            tf_idf = tfidf_list[word] * (desc.count(word) / len(desc))\n",
        "            sent_vec += (vec * tf_idf)\n",
        "            weight_sum += tf_idf\n",
        "    if weight_sum != 0:\n",
        "        sent_vec /= weight_sum\n",
        "    tfidf_vectors.append(sent_vec)\n",
        "    line += 1"
      ],
      "metadata": {
        "id": "QOv5JxEA0-Ea"
      },
      "execution_count": null,
      "outputs": []
    },
    {
      "cell_type": "code",
      "source": [
        "#Recommending top 5 similar books\n",
        "def recommendations(title):\n",
        "\n",
        "# Finding cosine similarity for the vectors\n",
        "\n",
        "cosine_similarities = cosine_similarity(tfidf_vectors,  tfidf_vectors)\n",
        "\n",
        "# taking the title and book image link\n",
        "books = df[['title']]\n",
        "#Reverse mapping of the index\n",
        "indices = pd.Series(df.index, index = df['title']).drop_duplicates()\n",
        "\n",
        "    idx = indices[title]\n",
        "    sim_scores = list(enumerate(cosine_similarities[idx]))\n",
        "    sim_scores = sorted(sim_scores, key = lambda x: x[1], reverse = True)\n",
        "    sim_scores = sim_scores[1:6]\n",
        "    book_indices = [i[0] for i in sim_scores]\n",
        "    recommend = books.iloc[book_indices]\n",
        "    for index, row in recommend.iterrows():\n",
        "plt.title(row['title'])"
      ],
      "metadata": {
        "id": "iIGIqDLU6nz1"
      },
      "execution_count": null,
      "outputs": []
    },
    {
      "cell_type": "code",
      "source": [
        "recommendations(\"The Da Vinci Code\")"
      ],
      "metadata": {
        "id": "oOeLyMkf6p-D",
        "colab": {
          "base_uri": "https://localhost:8080/",
          "height": 452
        },
        "outputId": "c561f367-2448-4797-bc52-1d465f4fe12e"
      },
      "execution_count": null,
      "outputs": [
        {
          "output_type": "display_data",
          "data": {
            "text/plain": [
              "<Figure size 640x480 with 1 Axes>"
            ],
            "image/png": "[encoded data removed]"
          },
          "metadata": {}
        }
      ]
    },
    {
      "cell_type": "code",
      "source": [
        "####Karin\n",
        "\n",
        "from sklearn.metrics.pairwise import cosine_similarity\n",
        "import pandas as pd\n",
        "def recommend_books(title, df, tfidf_vectors):\n",
        "# Cosine similarity for the vectors\n",
        "cosine_similarities = cosine_similarity(tfidf_vectors, tfidf_vectors)\n",
        "   books = df[['title']]\n",
        "# Reverse mapping of the index\n",
        "   indices = pd.Series(df.index, index=df['title']).drop_duplicates()\n",
        "   idx = indices[title]\n",
        "# Similarity scores\n",
        "  sim_scores = list(enumerate(cosine_similarities[idx]))\n",
        "   sim_scores = sorted(sim_scores, key=lambda x: x[1], reverse=True)\n",
        "# Top 5 similar books\n",
        "   sim_scores = sim_scores[1:6]\n",
        "   book_indices = [i[0] for i in sim_scores]\n",
        "recommendations = books.iloc[book_indices]\n",
        "return recommendations\n",
        "\n",
        "recommended_books = recommend_books('The Da Vinci Code', df, tfidf_vectors)\n",
        "print(recommended_books)"
      ],
      "metadata": {
        "colab": {
          "base_uri": "https://localhost:8080/"
        },
        "id": "uGgg5L2W468c",
        "outputId": "ed9a56f8-5637-449e-f536-bb8578004550"
      },
      "execution_count": null,
      "outputs": [
        {
          "output_type": "stream",
          "name": "stdout",
          "text": [
            "                                     title\n",
            "1            Underbelly : The Gangland War\n",
            "2                  A Sir Phillip, Con Amor\n",
            "3  QI: The Third Book of General Ignorance\n",
            "4           The Hidden Power of F*cking Up\n",
            "5                         The Grand Design\n"
          ]
        }
      ]
    },
    {
      "cell_type": "code",
      "source": [
        "#Using description and category features together to inrease accuracy\n",
        "from sklearn.feature_extraction.text import TfidfVectorizer\n",
        "from sklearn.metrics.pairwise import cosine_similarity\n",
        "import pandas as pd\n",
        "def recommend_books(title, df):\n",
        "   # Combining 'description' and 'category' into a single column for TF-IDF\n",
        "   df['combined_features'] = df['description'] + ' ' + df['categories']\n",
        "   # TF-IDF Vectorization\n",
        "   tfidf_vectorizer = TfidfVectorizer(stop_words='english')\n",
        "   tfidf_matrix = tfidf_vectorizer.fit_transform(df['combined_features'])\n",
        "   # Cosine similarity s\n",
        "   cosine_similarities = cosine_similarity(tfidf_matrix, tfidf_matrix)\n",
        "   books = df[['title']]\n",
        "   indices = pd.Series(df.index, index=df['title']).drop_duplicates()\n",
        "   idx = indices[title]\n",
        "   #  similarity scores\n",
        "   sim_scores = list(enumerate(cosine_similarities[idx]))\n",
        "   sim_scores = sorted(sim_scores, key=lambda x: x[1], reverse=True)\n",
        "   # Top 10 similar books\n",
        "   sim_scores = sim_scores[1:11]\n",
        "   book_indices = [i[0] for i in sim_scores]\n",
        "\n",
        "   recommendations = books.iloc[book_indices]\n",
        "   return recommendations\n",
        "\n",
        "recommended_books = recommend_books('The Da Vinci Code', df)\n",
        "print(recommended_books)"
      ],
      "metadata": {
        "colab": {
          "base_uri": "https://localhost:8080/"
        },
        "id": "80J2Ub1d6Ywv",
        "outputId": "451202de-d552-4c04-d8bb-1d8e3b7862ad"
      },
      "execution_count": null,
      "outputs": [
        {
          "output_type": "stream",
          "name": "stdout",
          "text": [
            "                                                   title\n",
            "19214               DA Vinci Code, the (Us Ed) : A Novel\n",
            "19966                                             Origin\n",
            "22008     The Da Vinci Code: Special Illustrated Edition\n",
            "21020                                     Absolute Proof\n",
            "22514        Angels And Demons : The Illustrated Edition\n",
            "6149                                     The Lost Symbol\n",
            "10755                                   The Sacred Blood\n",
            "10543                                Origen (En Espanol)\n",
            "14797                                      The Art Thief\n",
            "19544  Code Girls : The True Story of the American Wo...\n"
          ]
        }
      ]
    },
    {
      "cell_type": "code",
      "source": [
        "#Calculating MAE\n",
        "\n",
        "from sklearn.model_selection import train_test_split\n",
        "from sklearn.linear_model import LinearRegression\n",
        "from sklearn.metrics import mean_absolute_error\n",
        "from sklearn.feature_extraction.text import TfidfVectorizer\n",
        "import pandas as pd\n",
        "df['combined_features'] = df['description'] + ' ' + df['categories']\n",
        "df = df.dropna(subset=['rating-avg'])\n",
        "X = df['combined_features']\n",
        "y = df['rating-avg']\n",
        "# Splitting the data into training and test sets\n",
        "X_train, X_test, y_train, y_test = train_test_split(X, y, test_size=0.2, random_state=42)\n",
        "# TF-IDF Vectorization\n",
        "tfidf_vectorizer = TfidfVectorizer(stop_words='english')\n",
        "X_train_tfidf = tfidf_vectorizer.fit_transform(X_train)\n",
        "X_test_tfidf = tfidf_vectorizer.transform(X_test)\n",
        "# Model training\n",
        "model = LinearRegression()\n",
        "model.fit(X_train_tfidf, y_train)\n",
        "y_pred = model.predict(X_test_tfidf)\n",
        "mae = mean_absolute_error(y_test, y_pred)\n",
        "print(f'Mean Absolute Error (MAE): {mae}')"
      ],
      "metadata": {
        "colab": {
          "base_uri": "https://localhost:8080/"
        },
        "id": "HkbTx8mOJWjx",
        "outputId": "8d26fbb4-ab33-4761-b8e1-eeaaa8cffad8"
      },
      "execution_count": null,
      "outputs": [
        {
          "output_type": "stream",
          "name": "stdout",
          "text": [
            "Mean Absolute Error (MAE): 0.7996277319204825\n"
          ]
        }
      ]
    }
  ]
}